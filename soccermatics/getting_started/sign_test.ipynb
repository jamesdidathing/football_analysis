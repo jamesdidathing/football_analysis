{
 "cells": [
  {
   "cell_type": "markdown",
   "metadata": {},
   "source": [
    "Let's check equal size of two samples using the `sign test`. We will use an example of if Son shoots with both feet the same number of time."
   ]
  },
  {
   "cell_type": "code",
   "execution_count": 1,
   "metadata": {},
   "outputs": [
    {
     "name": "stderr",
     "output_type": "stream",
     "text": [
      "/var/folders/s7/mksssm8112scb6_3__pw7kb00000gq/T/ipykernel_79447/161566299.py:1: DeprecationWarning: \n",
      "Pyarrow will become a required dependency of pandas in the next major release of pandas (pandas 3.0),\n",
      "(to allow more performant data types, such as the Arrow string type, and better interoperability with other libraries)\n",
      "but was not found to be installed on your system.\n",
      "If this would cause problems for you,\n",
      "please provide us feedback at https://github.com/pandas-dev/pandas/issues/54466\n",
      "        \n",
      "  import pandas as pd\n"
     ]
    }
   ],
   "source": [
    "import pandas as pd\n",
    "import numpy as np\n",
    "import json\n",
    "# plotting\n",
    "import matplotlib.pyplot as plt\n",
    "#opening data\n",
    "import os\n",
    "import pathlib\n",
    "import warnings\n",
    "\n",
    "pd.options.mode.chained_assignment = None\n",
    "warnings.filterwarnings('ignore')"
   ]
  },
  {
   "cell_type": "markdown",
   "metadata": {},
   "source": [
    "## Opening the dataset"
   ]
  },
  {
   "cell_type": "code",
   "execution_count": 6,
   "metadata": {},
   "outputs": [],
   "source": [
    "#open event data\n",
    "train = pd.DataFrame()\n",
    "file_name = 'events_England.json'\n",
    "path = os.path.join(str(pathlib.Path().resolve()), 'soccermatics', 'data', 'wyscout', 'events', file_name)\n",
    "with open(path) as f:\n",
    "    data = json.load(f)\n",
    "train = pd.concat([train, pd.DataFrame(data)])\n",
    "\n",
    "#open dataset with players\n",
    "path = os.path.join(str(pathlib.Path().resolve()), 'soccermatics', \"data\", 'wyscout', 'players.json')\n",
    "with open(path) as f:\n",
    "    players = json.load(f)\n",
    "player_df = pd.DataFrame(players)"
   ]
  },
  {
   "cell_type": "markdown",
   "metadata": {},
   "source": [
    "Let's first filter all of our events such that we only keep the shots"
   ]
  },
  {
   "cell_type": "code",
   "execution_count": 10,
   "metadata": {},
   "outputs": [],
   "source": [
    "shots = train.loc[train['subEventName'] == 'Shot']"
   ]
  },
  {
   "cell_type": "markdown",
   "metadata": {},
   "source": [
    "Now lets get Sons player ID so that we can get all shots taken by Son."
   ]
  },
  {
   "cell_type": "code",
   "execution_count": 16,
   "metadata": {},
   "outputs": [
    {
     "name": "stdout",
     "output_type": "stream",
     "text": [
      "                                           passportArea  weight  firstName  \\\n",
      "1061  {'name': 'Korea Republic', 'id': '410', 'alpha...      77  Heung-Min   \n",
      "\n",
      "     middleName lastName currentTeamId   birthDate  height  \\\n",
      "1061                 Son          1624  1992-07-08     183   \n",
      "\n",
      "                                                   role  \\\n",
      "1061  {'code2': 'FW', 'code3': 'FWD', 'name': 'Forwa...   \n",
      "\n",
      "                                              birthArea   wyId   foot  \\\n",
      "1061  {'name': 'Korea Republic', 'id': '410', 'alpha...  14911  right   \n",
      "\n",
      "          shortName currentNationalTeamId  \n",
      "1061  Son Heung-Min                 14855  \n"
     ]
    }
   ],
   "source": [
    "son = player_df.loc[player_df['shortName'] == 'Son Heung-Min']\n",
    "print(son)\n",
    "\n",
    "# we can see the wyID for Son is\n",
    "son_id = 14911"
   ]
  },
  {
   "cell_type": "markdown",
   "metadata": {},
   "source": [
    "With these, we can now get all the shots that are taken by Son."
   ]
  },
  {
   "cell_type": "code",
   "execution_count": 21,
   "metadata": {},
   "outputs": [],
   "source": [
    "son_shots = shots.loc[shots['playerId'] == son_id]"
   ]
  },
  {
   "cell_type": "markdown",
   "metadata": {},
   "source": [
    "Now, within this dataframe are tags. Certain tag ID's represent a right foot (ID 402), left foot (ID 401) or head/body (ID 403).\n",
    "\n",
    "This is how we will get the left and right footed shots."
   ]
  },
  {
   "cell_type": "code",
   "execution_count": 30,
   "metadata": {},
   "outputs": [
    {
     "name": "stdout",
     "output_type": "stream",
     "text": [
      "40 27\n"
     ]
    }
   ],
   "source": [
    "left_shots = son_shots['tags'].apply(lambda x: {'id': 401} in x)\n",
    "right_shots = son_shots['tags'].apply(lambda x: {'id': 402} in x)\n",
    "no_left_shots = 0\n",
    "no_right_shots = 0\n",
    "\n",
    "\n",
    "for shot in left_shots:\n",
    "    if shot:\n",
    "        no_left_shots = no_left_shots + 1\n",
    "\n",
    "for shot in right_shots:\n",
    "    if shot:\n",
    "        no_right_shots = no_right_shots + 1\n",
    "\n",
    "print(no_right_shots, no_left_shots)"
   ]
  }
 ],
 "metadata": {
  "kernelspec": {
   "display_name": "venv",
   "language": "python",
   "name": "python3"
  },
  "language_info": {
   "codemirror_mode": {
    "name": "ipython",
    "version": 3
   },
   "file_extension": ".py",
   "mimetype": "text/x-python",
   "name": "python",
   "nbconvert_exporter": "python",
   "pygments_lexer": "ipython3",
   "version": "3.11.7"
  }
 },
 "nbformat": 4,
 "nbformat_minor": 2
}
