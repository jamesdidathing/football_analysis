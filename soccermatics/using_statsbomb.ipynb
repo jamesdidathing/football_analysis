{
 "cells": [
  {
   "cell_type": "code",
   "execution_count": 1,
   "metadata": {},
   "outputs": [],
   "source": [
    "from mplsoccer import Sbopen\n",
    "parser = Sbopen()"
   ]
  },
  {
   "cell_type": "markdown",
   "metadata": {},
   "source": [
    "## Parser\n",
    "\n",
    "Using the parser, we can access various dataframes starting from the high level (competitions, like WWC, AFCON...) all the way to the individual matches."
   ]
  },
  {
   "cell_type": "markdown",
   "metadata": {},
   "source": [
    "One thing to note on how these work is the ID's. You may think if we get the `competition_name` that it will give an index ID we can use as well. This is not the case.\n",
    "\n",
    "For example, if we get the Womens World Cup from `competition_name` we can see it exists in row 70. However, we then need to do `competition_id` to see that row 70 has an ID of 72. "
   ]
  },
  {
   "cell_type": "markdown",
   "metadata": {},
   "source": [
    "## parser.competition()\n",
    "\n",
    "This gets us all the competition info. The important keys from this are `competition_id` and `season_id`. From these we can access any competitions data from any season."
   ]
  },
  {
   "cell_type": "code",
   "execution_count": 17,
   "metadata": {},
   "outputs": [
    {
     "name": "stdout",
     "output_type": "stream",
     "text": [
      "<class 'pandas.core.frame.DataFrame'>\n",
      "RangeIndex: 71 entries, 0 to 70\n",
      "Data columns (total 12 columns):\n",
      " #   Column                     Non-Null Count  Dtype \n",
      "---  ------                     --------------  ----- \n",
      " 0   competition_id             71 non-null     int64 \n",
      " 1   season_id                  71 non-null     int64 \n",
      " 2   country_name               71 non-null     object\n",
      " 3   competition_name           71 non-null     object\n",
      " 4   competition_gender         71 non-null     object\n",
      " 5   competition_youth          71 non-null     bool  \n",
      " 6   competition_international  71 non-null     bool  \n",
      " 7   season_name                71 non-null     object\n",
      " 8   match_updated              71 non-null     object\n",
      " 9   match_updated_360          54 non-null     object\n",
      " 10  match_available_360        8 non-null      object\n",
      " 11  match_available            71 non-null     object\n",
      "dtypes: bool(2), int64(2), object(8)\n",
      "memory usage: 5.8+ KB\n"
     ]
    }
   ],
   "source": [
    "df_comp = parser.competition()\n",
    "df_comp.info()"
   ]
  },
  {
   "cell_type": "markdown",
   "metadata": {},
   "source": [
    "Say we want to look at the Bundesliga. Let's first find which row this exists:"
   ]
  },
  {
   "cell_type": "code",
   "execution_count": 22,
   "metadata": {},
   "outputs": [
    {
     "data": {
      "text/plain": [
       "0              1. Bundesliga\n",
       "1     African Cup of Nations\n",
       "2           Champions League\n",
       "3           Champions League\n",
       "4           Champions League\n",
       "               ...          \n",
       "66                 UEFA Euro\n",
       "67        UEFA Europa League\n",
       "68         UEFA Women's Euro\n",
       "69         Women's World Cup\n",
       "70         Women's World Cup\n",
       "Name: competition_name, Length: 71, dtype: object"
      ]
     },
     "execution_count": 22,
     "metadata": {},
     "output_type": "execute_result"
    }
   ],
   "source": [
    "df_comp['competition_name']"
   ]
  },
  {
   "cell_type": "markdown",
   "metadata": {},
   "source": [
    "We can see it is on the first row. To get the ID of this competition, we need to look at the first row of `competition_id`. "
   ]
  },
  {
   "cell_type": "code",
   "execution_count": 23,
   "metadata": {},
   "outputs": [
    {
     "data": {
      "text/plain": [
       "0        9\n",
       "1     1267\n",
       "2       16\n",
       "3       16\n",
       "4       16\n",
       "      ... \n",
       "66      55\n",
       "67      35\n",
       "68      53\n",
       "69      72\n",
       "70      72\n",
       "Name: competition_id, Length: 71, dtype: int64"
      ]
     },
     "execution_count": 23,
     "metadata": {},
     "output_type": "execute_result"
    }
   ],
   "source": [
    "df_comp['competition_id']"
   ]
  },
  {
   "cell_type": "markdown",
   "metadata": {},
   "source": [
    "We have `9`. We can do the same with `season_name` and `season_id` too. For this, I've selected the 2015/16 season which has an ID of `27`.\n",
    "\n",
    "NOTE: ONLY SEASON 27 EXISTS FOR THE OPENDATA (HAD TO LOOK), WHICH IS 2015/16!"
   ]
  },
  {
   "cell_type": "code",
   "execution_count": 38,
   "metadata": {},
   "outputs": [
    {
     "name": "stdout",
     "output_type": "stream",
     "text": [
      "<class 'pandas.core.frame.DataFrame'>\n",
      "RangeIndex: 306 entries, 0 to 305\n",
      "Data columns (total 52 columns):\n",
      " #   Column                           Non-Null Count  Dtype         \n",
      "---  ------                           --------------  -----         \n",
      " 0   match_id                         306 non-null    int64         \n",
      " 1   match_date                       306 non-null    datetime64[ns]\n",
      " 2   kick_off                         306 non-null    datetime64[ns]\n",
      " 3   home_score                       306 non-null    int64         \n",
      " 4   away_score                       306 non-null    int64         \n",
      " 5   match_status                     306 non-null    object        \n",
      " 6   match_status_360                 306 non-null    object        \n",
      " 7   last_updated                     306 non-null    datetime64[ns]\n",
      " 8   last_updated_360                 0 non-null      datetime64[ns]\n",
      " 9   match_week                       306 non-null    int64         \n",
      " 10  competition_id                   306 non-null    int64         \n",
      " 11  country_name                     306 non-null    object        \n",
      " 12  competition_name                 306 non-null    object        \n",
      " 13  season_id                        306 non-null    int64         \n",
      " 14  season_name                      306 non-null    object        \n",
      " 15  home_team_id                     306 non-null    int64         \n",
      " 16  home_team_name                   306 non-null    object        \n",
      " 17  home_team_gender                 306 non-null    object        \n",
      " 18  home_team_group                  0 non-null      object        \n",
      " 19  home_team_country_id             306 non-null    int64         \n",
      " 20  home_team_country_name           306 non-null    object        \n",
      " 21  home_team_managers_id            306 non-null    int64         \n",
      " 22  home_team_managers_name          306 non-null    object        \n",
      " 23  home_team_managers_nickname      306 non-null    object        \n",
      " 24  home_team_managers_dob           306 non-null    datetime64[ns]\n",
      " 25  home_team_managers_country_id    306 non-null    int64         \n",
      " 26  home_team_managers_country_name  306 non-null    object        \n",
      " 27  away_team_id                     306 non-null    int64         \n",
      " 28  away_team_name                   306 non-null    object        \n",
      " 29  away_team_gender                 306 non-null    object        \n",
      " 30  away_team_group                  0 non-null      object        \n",
      " 31  away_team_country_id             306 non-null    int64         \n",
      " 32  away_team_country_name           306 non-null    object        \n",
      " 33  away_team_managers_id            306 non-null    int64         \n",
      " 34  away_team_managers_name          306 non-null    object        \n",
      " 35  away_team_managers_nickname      306 non-null    object        \n",
      " 36  away_team_managers_dob           306 non-null    datetime64[ns]\n",
      " 37  away_team_managers_country_id    306 non-null    int64         \n",
      " 38  away_team_managers_country_name  306 non-null    object        \n",
      " 39  metadata_data_version            306 non-null    object        \n",
      " 40  metadata_shot_fidelity_version   306 non-null    object        \n",
      " 41  metadata_xy_fidelity_version     306 non-null    object        \n",
      " 42  competition_stage_id             306 non-null    int64         \n",
      " 43  competition_stage_name           306 non-null    object        \n",
      " 44  stadium_id                       306 non-null    int64         \n",
      " 45  stadium_name                     306 non-null    object        \n",
      " 46  stadium_country_id               306 non-null    int64         \n",
      " 47  stadium_country_name             306 non-null    object        \n",
      " 48  referee_id                       306 non-null    int64         \n",
      " 49  referee_name                     306 non-null    object        \n",
      " 50  referee_country_id               306 non-null    int64         \n",
      " 51  referee_country_name             306 non-null    object        \n",
      "dtypes: datetime64[ns](6), int64(19), object(27)\n",
      "memory usage: 124.4+ KB\n"
     ]
    }
   ],
   "source": [
    "df_match = parser.match(competition_id=9, season_id=27)\n",
    "# can do parser.match(competition_name=\"1. Bundesliga\", season_name=\"2015/16\") as well\n",
    "\n",
    "df_match.info()"
   ]
  },
  {
   "cell_type": "markdown",
   "metadata": {},
   "source": [
    "## Event data\n",
    "\n",
    "We will mostly be using \"Events\" data, which are things like shots, passes etc. You access these with `game_id`. \n",
    "\n",
    "The `event` method returns 4 dataframes in a tuple. We have events, related, freeze and tactics."
   ]
  },
  {
   "cell_type": "code",
   "execution_count": 43,
   "metadata": {},
   "outputs": [
    {
     "name": "stdout",
     "output_type": "stream",
     "text": [
      "<class 'pandas.core.frame.DataFrame'>\n",
      "RangeIndex: 3395 entries, 0 to 3394\n",
      "Data columns (total 67 columns):\n",
      " #   Column                          Non-Null Count  Dtype  \n",
      "---  ------                          --------------  -----  \n",
      " 0   id                              3395 non-null   object \n",
      " 1   index                           3395 non-null   int64  \n",
      " 2   period                          3395 non-null   int64  \n",
      " 3   timestamp                       3395 non-null   object \n",
      " 4   minute                          3395 non-null   int64  \n",
      " 5   second                          3395 non-null   int64  \n",
      " 6   possession                      3395 non-null   int64  \n",
      " 7   duration                        2489 non-null   float64\n",
      " 8   match_id                        3395 non-null   int64  \n",
      " 9   type_id                         3395 non-null   int64  \n",
      " 10  type_name                       3395 non-null   object \n",
      " 11  possession_team_id              3395 non-null   int64  \n",
      " 12  possession_team_name            3395 non-null   object \n",
      " 13  play_pattern_id                 3395 non-null   int64  \n",
      " 14  play_pattern_name               3395 non-null   object \n",
      " 15  team_id                         3395 non-null   int64  \n",
      " 16  team_name                       3395 non-null   object \n",
      " 17  tactics_formation               7 non-null      object \n",
      " 18  player_id                       3379 non-null   float64\n",
      " 19  player_name                     3379 non-null   object \n",
      " 20  position_id                     3379 non-null   float64\n",
      " 21  position_name                   3379 non-null   object \n",
      " 22  pass_recipient_id               907 non-null    float64\n",
      " 23  pass_recipient_name             907 non-null    object \n",
      " 24  pass_length                     948 non-null    float64\n",
      " 25  pass_angle                      948 non-null    float64\n",
      " 26  pass_height_id                  948 non-null    float64\n",
      " 27  pass_height_name                948 non-null    object \n",
      " 28  end_x                           1728 non-null   float64\n",
      " 29  end_y                           1728 non-null   float64\n",
      " 30  body_part_id                    962 non-null    float64\n",
      " 31  body_part_name                  962 non-null    object \n",
      " 32  sub_type_id                     326 non-null    float64\n",
      " 33  sub_type_name                   326 non-null    object \n",
      " 34  x                               3366 non-null   float64\n",
      " 35  y                               3366 non-null   float64\n",
      " 36  under_pressure                  595 non-null    float64\n",
      " 37  aerial_won                      46 non-null     object \n",
      " 38  outcome_id                      457 non-null    float64\n",
      " 39  outcome_name                    457 non-null    object \n",
      " 40  pass_switch                     40 non-null     object \n",
      " 41  counterpress                    69 non-null     float64\n",
      " 42  off_camera                      44 non-null     float64\n",
      " 43  pass_cross                      18 non-null     object \n",
      " 44  pass_assisted_shot_id           18 non-null     object \n",
      " 45  pass_goal_assist                4 non-null      object \n",
      " 46  shot_statsbomb_xg               24 non-null     float64\n",
      " 47  end_z                           16 non-null     float64\n",
      " 48  shot_key_pass_id                18 non-null     object \n",
      " 49  shot_first_time                 8 non-null      object \n",
      " 50  technique_id                    50 non-null     float64\n",
      " 51  technique_name                  50 non-null     object \n",
      " 52  goalkeeper_position_id          24 non-null     float64\n",
      " 53  goalkeeper_position_name        24 non-null     object \n",
      " 54  pass_cut_back                   3 non-null      object \n",
      " 55  pass_shot_assist                14 non-null     object \n",
      " 56  out                             42 non-null     float64\n",
      " 57  ball_recovery_recovery_failure  8 non-null      object \n",
      " 58  dribble_overrun                 2 non-null      object \n",
      " 59  foul_won_defensive              14 non-null     object \n",
      " 60  block_offensive                 1 non-null      object \n",
      " 61  foul_committed_card_id          7 non-null      float64\n",
      " 62  foul_committed_card_name        7 non-null      object \n",
      " 63  foul_committed_advantage        1 non-null      object \n",
      " 64  foul_won_advantage              1 non-null      object \n",
      " 65  substitution_replacement_id     5 non-null      float64\n",
      " 66  substitution_replacement_name   5 non-null      object \n",
      "dtypes: float64(24), int64(10), object(33)\n",
      "memory usage: 1.7+ MB\n"
     ]
    }
   ],
   "source": [
    "df_event = parser.event(match_id=3890511)[0]\n",
    "df_event.info()"
   ]
  },
  {
   "cell_type": "markdown",
   "metadata": {},
   "source": [
    "## 360 data\n",
    "\n",
    "Finally there is also 360 data which track not only location of an event but also players’ location. To open them we need an id of game. Later, we will also need id of the event."
   ]
  },
  {
   "cell_type": "code",
   "execution_count": 44,
   "metadata": {},
   "outputs": [
    {
     "name": "stdout",
     "output_type": "stream",
     "text": [
      "<class 'pandas.core.frame.DataFrame'>\n",
      "RangeIndex: 45737 entries, 0 to 45736\n",
      "Data columns (total 7 columns):\n",
      " #   Column    Non-Null Count  Dtype  \n",
      "---  ------    --------------  -----  \n",
      " 0   teammate  45737 non-null  bool   \n",
      " 1   actor     45737 non-null  bool   \n",
      " 2   keeper    45737 non-null  bool   \n",
      " 3   match_id  45737 non-null  int64  \n",
      " 4   id        45737 non-null  object \n",
      " 5   x         45737 non-null  float64\n",
      " 6   y         45737 non-null  float64\n",
      "dtypes: bool(3), float64(2), int64(1), object(1)\n",
      "memory usage: 1.5+ MB\n"
     ]
    }
   ],
   "source": [
    "df_frame, df_visible = parser.frame(3788741)\n",
    "\n",
    "# exploring the data\n",
    "df_frame.info()\n"
   ]
  }
 ],
 "metadata": {
  "kernelspec": {
   "display_name": ".venv",
   "language": "python",
   "name": "python3"
  },
  "language_info": {
   "codemirror_mode": {
    "name": "ipython",
    "version": 3
   },
   "file_extension": ".py",
   "mimetype": "text/x-python",
   "name": "python",
   "nbconvert_exporter": "python",
   "pygments_lexer": "ipython3",
   "version": "3.11.7"
  }
 },
 "nbformat": 4,
 "nbformat_minor": 2
}
