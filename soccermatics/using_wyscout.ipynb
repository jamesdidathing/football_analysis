{
 "cells": [
  {
   "cell_type": "markdown",
   "metadata": {},
   "source": [
    "## Wyscout\n",
    "\n",
    "Wyscout data we have is a bit different to using Statsbomb's API. The data exists in json files that we need to read in."
   ]
  },
  {
   "cell_type": "code",
   "execution_count": 3,
   "metadata": {},
   "outputs": [
    {
     "name": "stdout",
     "output_type": "stream",
     "text": [
      "<class 'pandas.core.frame.DataFrame'>\n",
      "RangeIndex: 7 entries, 0 to 6\n",
      "Data columns (total 5 columns):\n",
      " #   Column  Non-Null Count  Dtype \n",
      "---  ------  --------------  ----- \n",
      " 0   name    7 non-null      object\n",
      " 1   wyId    7 non-null      int64 \n",
      " 2   format  7 non-null      object\n",
      " 3   area    7 non-null      object\n",
      " 4   type    7 non-null      object\n",
      "dtypes: int64(1), object(4)\n",
      "memory usage: 412.0+ bytes\n"
     ]
    }
   ],
   "source": [
    "import pathlib\n",
    "import os\n",
    "import pandas as pd\n",
    "import json\n",
    "\n",
    "path = os.path.join(str(pathlib.Path().resolve()), 'soccermatics', 'data', 'wyscout', 'competitions.json') # put # in front if used locally\n",
    "\n",
    "# open the data\n",
    "with open(path) as f:\n",
    "    data = json.load(f)\n",
    "\n",
    "# save this data to a dataframe\n",
    "df_competitions = pd.DataFrame(data)\n",
    "df_competitions.info()"
   ]
  },
  {
   "cell_type": "code",
   "execution_count": 4,
   "metadata": {},
   "outputs": [
    {
     "data": {
      "text/plain": [
       "0    Italian first division\n",
       "1    English first division\n",
       "2    Spanish first division\n",
       "3     French first division\n",
       "4     German first division\n",
       "5     European Championship\n",
       "6                 World Cup\n",
       "Name: name, dtype: object"
      ]
     },
     "execution_count": 4,
     "metadata": {},
     "output_type": "execute_result"
    }
   ],
   "source": [
    "df_competitions['name']"
   ]
  },
  {
   "cell_type": "markdown",
   "metadata": {},
   "source": [
    "## Matches\n",
    "\n",
    "The separate match data is contained in its own json file, so we can easily access these for which competition we like."
   ]
  },
  {
   "cell_type": "code",
   "execution_count": 9,
   "metadata": {},
   "outputs": [
    {
     "name": "stdout",
     "output_type": "stream",
     "text": [
      "<class 'pandas.core.frame.DataFrame'>\n",
      "RangeIndex: 380 entries, 0 to 379\n",
      "Data columns (total 14 columns):\n",
      " #   Column         Non-Null Count  Dtype \n",
      "---  ------         --------------  ----- \n",
      " 0   status         380 non-null    object\n",
      " 1   roundId        380 non-null    int64 \n",
      " 2   gameweek       380 non-null    int64 \n",
      " 3   teamsData      380 non-null    object\n",
      " 4   seasonId       380 non-null    int64 \n",
      " 5   dateutc        380 non-null    object\n",
      " 6   winner         380 non-null    int64 \n",
      " 7   venue          380 non-null    object\n",
      " 8   wyId           380 non-null    int64 \n",
      " 9   label          380 non-null    object\n",
      " 10  date           380 non-null    object\n",
      " 11  referees       380 non-null    object\n",
      " 12  duration       380 non-null    object\n",
      " 13  competitionId  380 non-null    int64 \n",
      "dtypes: int64(6), object(8)\n",
      "memory usage: 41.7+ KB\n"
     ]
    }
   ],
   "source": [
    "path = os.path.join(str(pathlib.Path().resolve()), 'soccermatics', 'data', 'wyscout', 'matches', 'matches_England.json') # put # in front if used locally\n",
    "\n",
    "with open(path) as f:\n",
    "    data = json.load(f)\n",
    "\n",
    "df_matches = pd.DataFrame(data)\n",
    "df_matches.info()"
   ]
  },
  {
   "cell_type": "markdown",
   "metadata": {},
   "source": [
    "## Player data\n",
    "\n",
    "In this dataframe you can find information about all players available for Wyscout public dataset. wyId is the player id in the Wyscout database. In the currentTeamId you can find the id of a team that the player plays form. shortName is an important column for vizualisations and rankings since player’s name is written in a shorter way."
   ]
  },
  {
   "cell_type": "code",
   "execution_count": 10,
   "metadata": {},
   "outputs": [
    {
     "name": "stdout",
     "output_type": "stream",
     "text": [
      "<class 'pandas.core.frame.DataFrame'>\n",
      "RangeIndex: 3603 entries, 0 to 3602\n",
      "Data columns (total 14 columns):\n",
      " #   Column                 Non-Null Count  Dtype \n",
      "---  ------                 --------------  ----- \n",
      " 0   passportArea           3603 non-null   object\n",
      " 1   weight                 3603 non-null   int64 \n",
      " 2   firstName              3603 non-null   object\n",
      " 3   middleName             3603 non-null   object\n",
      " 4   lastName               3603 non-null   object\n",
      " 5   currentTeamId          3512 non-null   object\n",
      " 6   birthDate              3603 non-null   object\n",
      " 7   height                 3603 non-null   int64 \n",
      " 8   role                   3603 non-null   object\n",
      " 9   birthArea              3603 non-null   object\n",
      " 10  wyId                   3603 non-null   int64 \n",
      " 11  foot                   3603 non-null   object\n",
      " 12  shortName              3603 non-null   object\n",
      " 13  currentNationalTeamId  3603 non-null   object\n",
      "dtypes: int64(3), object(11)\n",
      "memory usage: 394.2+ KB\n"
     ]
    }
   ],
   "source": [
    "path = os.path.join(str(pathlib.Path().resolve()), 'soccermatics', 'data', 'wyscout', 'players.json') \n",
    "\n",
    "with open(path) as f:\n",
    "    data = json.load(f)\n",
    "\n",
    "df_players = pd.DataFrame(data)\n",
    "df_players.info()\n"
   ]
  }
 ],
 "metadata": {
  "kernelspec": {
   "display_name": "venv",
   "language": "python",
   "name": "python3"
  },
  "language_info": {
   "codemirror_mode": {
    "name": "ipython",
    "version": 3
   },
   "file_extension": ".py",
   "mimetype": "text/x-python",
   "name": "python",
   "nbconvert_exporter": "python",
   "pygments_lexer": "ipython3",
   "version": "3.11.7"
  }
 },
 "nbformat": 4,
 "nbformat_minor": 2
}
